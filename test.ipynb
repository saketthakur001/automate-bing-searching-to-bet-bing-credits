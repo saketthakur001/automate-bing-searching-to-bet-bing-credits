{
 "cells": [
  {
   "cell_type": "code",
   "execution_count": 48,
   "metadata": {},
   "outputs": [
    {
     "data": {
      "text/plain": [
       "{24: 8, 21: 7, 17: 5, 13: 3, 20: 9, 19: 7, 22: 8, 15: 3}"
      ]
     },
     "execution_count": 48,
     "metadata": {},
     "output_type": "execute_result"
    }
   ],
   "source": [
    "\"\"\"\n",
    "# define a [[python Functions]] that performs a task [[Random]]ly between the time given\n",
    "\n",
    "# ask user for:\n",
    "number of browsing sessions\n",
    "total number of search\n",
    "\n",
    "# just so it's clear\n",
    "- the user will have to give a number of time the bot browses randomly(for a short period of time)\n",
    "- from the total number of searches give each session random number of searches \n",
    "\"\"\"\n",
    "\n",
    "import random\n",
    "import time\n",
    "\n",
    "\n",
    "def random_search(total_search, number_of_sessions, start_time, end_time):\n",
    "    '''\n",
    "    start_time : 1-24\n",
    "    end_time : 1-24\n",
    "\n",
    "    total_search : 1-100         # number of searches per session\n",
    "    number_of_sessions : 1-100   # number of sessions per day\n",
    "    '''\n",
    "\n",
    "    # pick random times for the random sessions according to the number of sessions # store numbers in a dictonary\n",
    "    total_search += random.randint(-10, 30)\n",
    "    number_of_sessions += random.randint(1, 5)\n",
    "\n",
    "    sessions = {}\n",
    "    for i in range(number_of_sessions):\n",
    "        sessions[random.randint(start_time, end_time)] = 0\n",
    "\n",
    "    for i in range(number_of_searches):\n",
    "        choice = random.choice(list(sessions.keys()))\n",
    "        sessions[choice] +=1\n",
    "    return sessions\n",
    "\n",
    "random_search(50, 5, 9, 24)\n"
   ]
  },
  {
   "cell_type": "code",
   "execution_count": 16,
   "metadata": {},
   "outputs": [],
   "source": [
    "number_of_searches = 50\n",
    "number_of_sessions = 5\n",
    "start_time = 9\n",
    "end_time = 18\n",
    "sessions = {}\n",
    "for i in range(number_of_sessions):\n",
    "    sessions[random.randint(start_time, end_time)] = 0\n",
    "\n",
    "for i in range(number_of_searches):\n",
    "    choice = random.choice(list(sessions.keys()))\n",
    "    sessions[choice] +=1\n",
    "\n",
    "\n"
   ]
  },
  {
   "cell_type": "code",
   "execution_count": 19,
   "metadata": {},
   "outputs": [
    {
     "data": {
      "text/plain": [
       "50"
      ]
     },
     "execution_count": 19,
     "metadata": {},
     "output_type": "execute_result"
    }
   ],
   "source": []
  },
  {
   "cell_type": "code",
   "execution_count": 18,
   "metadata": {},
   "outputs": [
    {
     "data": {
      "text/plain": [
       "{16: 7, 12: 9, 10: 17, 17: 9, 13: 8}"
      ]
     },
     "execution_count": 18,
     "metadata": {},
     "output_type": "execute_result"
    }
   ],
   "source": [
    "sessions"
   ]
  }
 ],
 "metadata": {
  "kernelspec": {
   "display_name": "base",
   "language": "python",
   "name": "python3"
  },
  "language_info": {
   "codemirror_mode": {
    "name": "ipython",
    "version": 3
   },
   "file_extension": ".py",
   "mimetype": "text/x-python",
   "name": "python",
   "nbconvert_exporter": "python",
   "pygments_lexer": "ipython3",
   "version": "3.11.5"
  }
 },
 "nbformat": 4,
 "nbformat_minor": 2
}
